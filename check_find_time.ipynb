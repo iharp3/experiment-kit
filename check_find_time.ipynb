{
 "cells": [
  {
   "cell_type": "markdown",
   "metadata": {},
   "source": [
    "# Greenland, 2010-2019, Max: 205, Min: 305"
   ]
  },
  {
   "cell_type": "code",
   "execution_count": null,
   "metadata": {},
   "outputs": [],
   "source": [
    "from proposed.query_executor_timeseries import TimeseriesExecutor\n",
    "\n",
    "# Latitude: 59.79 to 83.63, approximately 25 degrees\n",
    "# Longitude: -73.00 to -12.00, approximately 60 degrees\n",
    "\n",
    "qe = TimeseriesExecutor(\n",
    "    variable=\"2m_temperature\",\n",
    "    start_datetime=\"2010-01-01 00:00:00\",\n",
    "    end_datetime=\"2019-12-31 23:00:00\",\n",
    "    temporal_resolution=\"hour\",\n",
    "    max_lat = 85,\n",
    "    min_lat = 60,\n",
    "    min_lon = -70,\n",
    "    max_lon = -10,\n",
    "    spatial_resolution=0.25,\n",
    "    aggregation=\"mean\",\n",
    "    time_series_aggregation_method=\"mean\",\n",
    ")\n",
    "ts1 = qe.execute()\n",
    "ts1"
   ]
  },
  {
   "cell_type": "code",
   "execution_count": null,
   "metadata": {},
   "outputs": [],
   "source": [
    "ts1.max()"
   ]
  },
  {
   "cell_type": "code",
   "execution_count": null,
   "metadata": {},
   "outputs": [],
   "source": [
    "ts1.min()"
   ]
  },
  {
   "cell_type": "code",
   "execution_count": null,
   "metadata": {},
   "outputs": [],
   "source": [
    "import sys\n",
    "sys.path.append('vanilla/')\n",
    "\n",
    "from vanilla.vanilla_get_timeseries_executor import VanillaGetTimeseriesExecutor\n",
    "\n",
    "vanilla_qe = VanillaGetTimeseriesExecutor(\n",
    "    variable=\"2m_temperature\",\n",
    "    start_datetime=\"2010-01-01 00:00:00\",\n",
    "    end_datetime=\"2019-12-31 23:00:00\",\n",
    "    temporal_resolution=\"hour\",\n",
    "    max_lat = 85,\n",
    "    min_lat = 60,\n",
    "    min_lon = -70,\n",
    "    max_lon = -10,\n",
    "    spatial_resolution=0.25,\n",
    "    aggregation=\"mean\",\n",
    ")\n",
    "vts = vanilla_qe.execute()\n"
   ]
  },
  {
   "cell_type": "code",
   "execution_count": null,
   "metadata": {},
   "outputs": [],
   "source": [
    "vts"
   ]
  },
  {
   "cell_type": "code",
   "execution_count": null,
   "metadata": {},
   "outputs": [],
   "source": [
    "ts1.max()"
   ]
  },
  {
   "cell_type": "code",
   "execution_count": null,
   "metadata": {},
   "outputs": [],
   "source": [
    "ts1.min()"
   ]
  },
  {
   "cell_type": "code",
   "execution_count": null,
   "metadata": {},
   "outputs": [],
   "source": [
    "import sys\n",
    "sys.path.append('proposed/')\n",
    "from proposed.query_executor_find_time import FindTimeExecutor\n",
    "\n",
    "fqe = FindTimeExecutor(\n",
    "    variable=\"2m_temperature\",\n",
    "    start_datetime=\"2010-01-01 00:00:00\",\n",
    "    end_datetime=\"2019-12-31 23:00:00\",\n",
    "    temporal_resolution=\"hour\",\n",
    "    max_lat = 85,\n",
    "    min_lat = 60,\n",
    "    min_lon = -75,\n",
    "    max_lon = -10,\n",
    "    spatial_resolution=0.25,\n",
    "    aggregation=\"mean\",\n",
    "    time_series_aggregation_method=\"mean\",\n",
    "    filter_predicate=\">\",\n",
    "    filter_value=255,\n",
    ")\n",
    "ft = fqe.execute()\n",
    "ft\n",
    "    "
   ]
  },
  {
   "cell_type": "code",
   "execution_count": null,
   "metadata": {},
   "outputs": [],
   "source": [
    "import sys\n",
    "sys.path.append('vanilla/')\n",
    "\n",
    "from vanilla.vanilla_get_timeseries_executor import VanillaGetTimeseriesExecutor\n",
    "\n",
    "vanilla_qe = VanillaGetTimeseriesExecutor(\n",
    "    variable=\"2m_temperature\",\n",
    "    start_datetime=\"2010-01-01 00:00:00\",\n",
    "    end_datetime=\"2010-12-31 23:00:00\",\n",
    "    temporal_resolution=\"hour\",\n",
    "    max_lat = 85,\n",
    "    min_lat = 60,\n",
    "    min_lon = -75,\n",
    "    max_lon = -10,\n",
    "    spatial_resolution=0.25,\n",
    "    aggregation=\"max\",\n",
    ")\n",
    "vts = vanilla_qe.execute()"
   ]
  },
  {
   "cell_type": "code",
   "execution_count": null,
   "metadata": {},
   "outputs": [],
   "source": [
    "vts.min(), vts.max()"
   ]
  },
  {
   "cell_type": "code",
   "execution_count": null,
   "metadata": {},
   "outputs": [],
   "source": [
    "import sys\n",
    "sys.path.append('proposed/')\n",
    "from proposed.query_executor_find_time import FindTimeExecutor\n",
    "\n",
    "fqe = FindTimeExecutor(\n",
    "    variable=\"2m_temperature\",\n",
    "    start_datetime=\"2010-01-01 00:00:00\",\n",
    "    end_datetime=\"2010-12-31 23:00:00\",\n",
    "    temporal_resolution=\"hour\",\n",
    "    max_lat = 85,\n",
    "    min_lat = 60,\n",
    "    min_lon = -75,\n",
    "    max_lon = -10,\n",
    "    spatial_resolution=0.25,\n",
    "    aggregation=\"min\",\n",
    "    time_series_aggregation_method=\"min\",\n",
    "    filter_predicate=\">\",\n",
    "    filter_value=240,\n",
    ")\n",
    "ft = fqe.execute()\n",
    "ft\n",
    "    "
   ]
  },
  {
   "cell_type": "code",
   "execution_count": 1,
   "metadata": {},
   "outputs": [
    {
     "name": "stdout",
     "output_type": "stream",
     "text": [
      "local files: ['/data/era5/agg/2m_temperature/2m_temperature-hour_100.nc']\n",
      "<xarray.Dataset> Size: 4B\n",
      "Dimensions:  ()\n",
      "Data variables:\n",
      "    t2m      float32 4B 209.6\n",
      "local files: ['/data/era5/agg/2m_temperature/2m_temperature-hour_100.nc']\n",
      "<xarray.Dataset> Size: 4B\n",
      "Dimensions:  ()\n",
      "Data variables:\n",
      "    t2m      float32 4B 303.5\n"
     ]
    }
   ],
   "source": [
    "from proposed.query_executor_timeseries import TimeseriesExecutor\n",
    "\n",
    "# Latitude: 59.79 to 83.63, approximately 25 degrees\n",
    "# Longitude: -73.00 to -12.00, approximately 60 degrees\n",
    "\n",
    "qe = TimeseriesExecutor(\n",
    "    variable=\"2m_temperature\",\n",
    "    start_datetime=\"2004-01-01 00:00:00\",\n",
    "    end_datetime=\"2023-12-31 23:00:00\",\n",
    "    temporal_resolution=\"hour\",\n",
    "    max_lat = 85,\n",
    "    min_lat = 60,\n",
    "    min_lon = -70,\n",
    "    max_lon = -10,\n",
    "    spatial_resolution=0.25,\n",
    "    aggregation=\"min\",\n",
    "    time_series_aggregation_method=\"min\",\n",
    ")\n",
    "ts1 = qe.execute()\n",
    "print(ts1.min())\n",
    "\n",
    "qe = TimeseriesExecutor(\n",
    "    variable=\"2m_temperature\",\n",
    "    start_datetime=\"2004-01-01 00:00:00\",\n",
    "    end_datetime=\"2023-12-31 23:00:00\",\n",
    "    temporal_resolution=\"hour\",\n",
    "    max_lat = 85,\n",
    "    min_lat = 60,\n",
    "    min_lon = -70,\n",
    "    max_lon = -10,\n",
    "    spatial_resolution=0.25,\n",
    "    aggregation=\"max\",\n",
    "    time_series_aggregation_method=\"max\",\n",
    ")\n",
    "ts1 = qe.execute()\n",
    "print(ts1.max())"
   ]
  },
  {
   "cell_type": "code",
   "execution_count": null,
   "metadata": {},
   "outputs": [],
   "source": []
  }
 ],
 "metadata": {
  "kernelspec": {
   "display_name": "venv",
   "language": "python",
   "name": "python3"
  },
  "language_info": {
   "codemirror_mode": {
    "name": "ipython",
    "version": 3
   },
   "file_extension": ".py",
   "mimetype": "text/x-python",
   "name": "python",
   "nbconvert_exporter": "python",
   "pygments_lexer": "ipython3",
   "version": "3.12.9"
  }
 },
 "nbformat": 4,
 "nbformat_minor": 2
}
