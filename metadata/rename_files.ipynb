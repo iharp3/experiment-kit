{
 "cells": [
  {
   "cell_type": "code",
   "execution_count": null,
   "metadata": {},
   "outputs": [],
   "source": [
    "import pandas as pd\n",
    "\n",
    "\n",
    "df = pd.read_csv(\"metadata.csv\")"
   ]
  },
  {
   "cell_type": "code",
   "execution_count": null,
   "metadata": {},
   "outputs": [],
   "source": [
    "# create bash script to rename files\n",
    "with open(\"rename_files.sh\", \"w\") as f:\n",
    "    for index, row in df.iterrows():\n",
    "        spatial_resolution = row[\"spatial_resolution\"]\n",
    "        file_name = row[\"file_name\"]\n",
    "        if \"nc__\" in file_name:\n",
    "            print(file_name)\n",
    "            new_name = file_name.split(\".nc\")[0] + f\"_{int(spatial_resolution*100)}.nc\"\n",
    "            print(new_name)\n",
    "            f.write(f\"mv {file_name} {new_name}\\n\")"
   ]
  },
  {
   "cell_type": "code",
   "execution_count": null,
   "metadata": {},
   "outputs": [],
   "source": [
    "def add_new_name(row):\n",
    "    spatial_resolution = row['spatial_resolution']\n",
    "    file_name = row['file_name']\n",
    "    if 'nc__' in file_name:\n",
    "        new_name = file_name.split('.nc')[0]+f\"_{int(spatial_resolution*100)}.nc\"\n",
    "        return new_name\n",
    "    else:\n",
    "        return file_name\n",
    "\n",
    "df['new_name'] = df.apply(add_new_name, axis=1)\n",
    "df.to_csv('metadata_rename.csv', index=False)"
   ]
  },
  {
   "cell_type": "code",
   "execution_count": null,
   "metadata": {},
   "outputs": [],
   "source": []
  }
 ],
 "metadata": {
  "kernelspec": {
   "display_name": "venv",
   "language": "python",
   "name": "python3"
  },
  "language_info": {
   "codemirror_mode": {
    "name": "ipython",
    "version": 3
   },
   "file_extension": ".py",
   "mimetype": "text/x-python",
   "name": "python",
   "nbconvert_exporter": "python",
   "pygments_lexer": "ipython3",
   "version": "3.12.9"
  }
 },
 "nbformat": 4,
 "nbformat_minor": 2
}
