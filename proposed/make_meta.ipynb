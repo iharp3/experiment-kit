{
 "cells": [
  {
   "cell_type": "code",
   "execution_count": null,
   "metadata": {},
   "outputs": [],
   "source": [
    "import pandas as pd\n",
    "\n",
    "metadata = \"metadata.csv\"\n",
    "df_meta = pd.read_csv(metadata)\n",
    "# add file_path\n",
    "df_meta[\"file_path\"] = \"/data/era5/agg/2m_temperature/\" + df_meta[\"file_name\"]\n",
    "# drop file_name\n",
    "df_meta = df_meta.drop(columns=[\"file_name\"])\n",
    "# rename columns\n",
    "df_meta = df_meta.rename(\n",
    "    columns={\n",
    "        \"max_lat_N\": \"max_lat\",\n",
    "        \"min_lat_S\": \"min_lat\",\n",
    "        \"max_long_E\": \"max_lon\",\n",
    "        \"min_long_W\": \"min_lon\",\n",
    "        \"start_time\": \"start_datetime\",\n",
    "        \"end_time\": \"end_datetime\",\n",
    "        \"temporal_agg_type\": \"temporal_aggregation\",\n",
    "        \"spatial_agg_type\": \"spatial_aggregation\",\n",
    "    }\n",
    ")\n",
    "# change literal conversion\n",
    "df_meta[\"temporal_resolution\"] = df_meta[\"temporal_resolution\"].map(\n",
    "    {\"H\": \"hour\", \"D\": \"day\", \"M\": \"month\", \"Y\": \"year\", \"1H\": \"hour\", \"1D\": \"day\", \"1ME\": \"month\", \"1YE\": \"year\"}\n",
    ")\n",
    "# new aggregation columns\n",
    "df_meta[\"aggregation\"] = df_meta[\"temporal_aggregation\"]\n",
    "# drop min, max, file_size columns\n",
    "df_meta = df_meta.drop(columns=[\"min\", \"max\", \"file_size\"])\n",
    "# drop temporal_aggregationm spatial_aggregation columns\n",
    "df_meta = df_meta.drop(columns=[\"temporal_aggregation\", \"spatial_aggregation\"])\n",
    "\n",
    "df_meta"
   ]
  },
  {
   "cell_type": "code",
   "execution_count": null,
   "metadata": {},
   "outputs": [],
   "source": [
    "variable = \"2m_temperature\"\n",
    "max_lat = 90\n",
    "min_lat = -90\n",
    "max_lon = 180\n",
    "min_lon = -180\n",
    "temporal_resolution = \"hour\"\n",
    "temporal_aggregation = \"none\"\n",
    "spatial_resolution = \"0.25\"\n",
    "spatial_aggregation = \"none\"\n",
    "aggregation = \"none\"\n",
    "file_pre = \"/data/era5/raw/2m_temperature/2m_temperature-\"\n",
    "\n",
    "# add raw data\n",
    "row_data = []\n",
    "for year in range(1984, 2024):\n",
    "    row_data.append(\n",
    "        {\n",
    "            \"variable\": variable,\n",
    "            \"max_lat\": max_lat,\n",
    "            \"min_lat\": min_lat,\n",
    "            \"max_lon\": max_lon,\n",
    "            \"min_lon\": min_lon,\n",
    "            \"start_datetime\": f\"{year}-01-01 00:00:00\",\n",
    "            \"end_datetime\": f\"{year}-12-31 23:00:00\",\n",
    "            \"temporal_resolution\": temporal_resolution,\n",
    "            \"spatial_resolution\": spatial_resolution,\n",
    "            \"aggregation\": aggregation,\n",
    "            \"file_path\": f\"{file_pre}{year}.nc\",\n",
    "        }\n",
    "    )\n",
    "\n",
    "df_raw = pd.DataFrame(row_data)\n",
    "df_raw\n"
   ]
  },
  {
   "cell_type": "code",
   "execution_count": null,
   "metadata": {},
   "outputs": [],
   "source": [
    "df_all = pd.concat([df_meta, df_raw], ignore_index=True)\n",
    "# reorder columns\n",
    "df_all = df_all[\n",
    "    [\n",
    "        \"variable\",\n",
    "        \"max_lat\",\n",
    "        \"min_lat\",\n",
    "        \"max_lon\",\n",
    "        \"min_lon\",\n",
    "        \"start_datetime\",\n",
    "        \"end_datetime\",\n",
    "        \"temporal_resolution\",\n",
    "        \"spatial_resolution\",\n",
    "        \"aggregation\",\n",
    "        \"file_path\",\n",
    "    ]\n",
    "]\n",
    "df_all"
   ]
  },
  {
   "cell_type": "code",
   "execution_count": null,
   "metadata": {},
   "outputs": [],
   "source": [
    "# output\n",
    "df_all.to_csv(\"metadata_post.csv\", index=False)"
   ]
  },
  {
   "cell_type": "code",
   "execution_count": null,
   "metadata": {},
   "outputs": [],
   "source": []
  }
 ],
 "metadata": {
  "kernelspec": {
   "display_name": "venv",
   "language": "python",
   "name": "python3"
  },
  "language_info": {
   "codemirror_mode": {
    "name": "ipython",
    "version": 3
   },
   "file_extension": ".py",
   "mimetype": "text/x-python",
   "name": "python",
   "nbconvert_exporter": "python",
   "pygments_lexer": "ipython3",
   "version": "3.12.8"
  }
 },
 "nbformat": 4,
 "nbformat_minor": 2
}
